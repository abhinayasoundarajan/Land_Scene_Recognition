{
  "nbformat": 4,
  "nbformat_minor": 0,
  "metadata": {
    "colab": {
      "provenance": []
    },
    "kernelspec": {
      "name": "python3",
      "display_name": "Python 3"
    },
    "language_info": {
      "name": "python"
    },
    "widgets": {
      "application/vnd.jupyter.widget-state+json": {
        "fbe228a78d0e4baab0006a747bf3339f": {
          "model_module": "@jupyter-widgets/controls",
          "model_name": "HBoxModel",
          "model_module_version": "1.5.0",
          "state": {
            "_dom_classes": [],
            "_model_module": "@jupyter-widgets/controls",
            "_model_module_version": "1.5.0",
            "_model_name": "HBoxModel",
            "_view_count": null,
            "_view_module": "@jupyter-widgets/controls",
            "_view_module_version": "1.5.0",
            "_view_name": "HBoxView",
            "box_style": "",
            "children": [
              "IPY_MODEL_82159dbbc88b41d0a6c2d1f1d0c4efb6",
              "IPY_MODEL_45329d2fdaa344c6b54ce1d6a61bfb5e",
              "IPY_MODEL_7045f293ef2740b9af9085d7276ff0d1"
            ],
            "layout": "IPY_MODEL_a8b7f517c7ca4d8ca16dbbb65b9471fb"
          }
        },
        "82159dbbc88b41d0a6c2d1f1d0c4efb6": {
          "model_module": "@jupyter-widgets/controls",
          "model_name": "HTMLModel",
          "model_module_version": "1.5.0",
          "state": {
            "_dom_classes": [],
            "_model_module": "@jupyter-widgets/controls",
            "_model_module_version": "1.5.0",
            "_model_name": "HTMLModel",
            "_view_count": null,
            "_view_module": "@jupyter-widgets/controls",
            "_view_module_version": "1.5.0",
            "_view_name": "HTMLView",
            "description": "",
            "description_tooltip": null,
            "layout": "IPY_MODEL_0df2edad23ea405a8bb956b868abe4bc",
            "placeholder": "​",
            "style": "IPY_MODEL_67ed531895f24597ad120d6419969c56",
            "value": "100%"
          }
        },
        "45329d2fdaa344c6b54ce1d6a61bfb5e": {
          "model_module": "@jupyter-widgets/controls",
          "model_name": "FloatProgressModel",
          "model_module_version": "1.5.0",
          "state": {
            "_dom_classes": [],
            "_model_module": "@jupyter-widgets/controls",
            "_model_module_version": "1.5.0",
            "_model_name": "FloatProgressModel",
            "_view_count": null,
            "_view_module": "@jupyter-widgets/controls",
            "_view_module_version": "1.5.0",
            "_view_name": "ProgressView",
            "bar_style": "success",
            "description": "",
            "description_tooltip": null,
            "layout": "IPY_MODEL_6180793b84fe4d9fb68d7b4a22541bba",
            "max": 23463,
            "min": 0,
            "orientation": "horizontal",
            "style": "IPY_MODEL_5059fcbe714e4feaa4b66050402540b0",
            "value": 23463
          }
        },
        "7045f293ef2740b9af9085d7276ff0d1": {
          "model_module": "@jupyter-widgets/controls",
          "model_name": "HTMLModel",
          "model_module_version": "1.5.0",
          "state": {
            "_dom_classes": [],
            "_model_module": "@jupyter-widgets/controls",
            "_model_module_version": "1.5.0",
            "_model_name": "HTMLModel",
            "_view_count": null,
            "_view_module": "@jupyter-widgets/controls",
            "_view_module_version": "1.5.0",
            "_view_name": "HTMLView",
            "description": "",
            "description_tooltip": null,
            "layout": "IPY_MODEL_1f43864bc649416989012c1abe74d007",
            "placeholder": "​",
            "style": "IPY_MODEL_aea97af57f2c41f69bb1d92926b66905",
            "value": " 23463/23463 [06:16&lt;00:00, 67.86it/s]"
          }
        },
        "a8b7f517c7ca4d8ca16dbbb65b9471fb": {
          "model_module": "@jupyter-widgets/base",
          "model_name": "LayoutModel",
          "model_module_version": "1.2.0",
          "state": {
            "_model_module": "@jupyter-widgets/base",
            "_model_module_version": "1.2.0",
            "_model_name": "LayoutModel",
            "_view_count": null,
            "_view_module": "@jupyter-widgets/base",
            "_view_module_version": "1.2.0",
            "_view_name": "LayoutView",
            "align_content": null,
            "align_items": null,
            "align_self": null,
            "border": null,
            "bottom": null,
            "display": null,
            "flex": null,
            "flex_flow": null,
            "grid_area": null,
            "grid_auto_columns": null,
            "grid_auto_flow": null,
            "grid_auto_rows": null,
            "grid_column": null,
            "grid_gap": null,
            "grid_row": null,
            "grid_template_areas": null,
            "grid_template_columns": null,
            "grid_template_rows": null,
            "height": null,
            "justify_content": null,
            "justify_items": null,
            "left": null,
            "margin": null,
            "max_height": null,
            "max_width": null,
            "min_height": null,
            "min_width": null,
            "object_fit": null,
            "object_position": null,
            "order": null,
            "overflow": null,
            "overflow_x": null,
            "overflow_y": null,
            "padding": null,
            "right": null,
            "top": null,
            "visibility": null,
            "width": null
          }
        },
        "0df2edad23ea405a8bb956b868abe4bc": {
          "model_module": "@jupyter-widgets/base",
          "model_name": "LayoutModel",
          "model_module_version": "1.2.0",
          "state": {
            "_model_module": "@jupyter-widgets/base",
            "_model_module_version": "1.2.0",
            "_model_name": "LayoutModel",
            "_view_count": null,
            "_view_module": "@jupyter-widgets/base",
            "_view_module_version": "1.2.0",
            "_view_name": "LayoutView",
            "align_content": null,
            "align_items": null,
            "align_self": null,
            "border": null,
            "bottom": null,
            "display": null,
            "flex": null,
            "flex_flow": null,
            "grid_area": null,
            "grid_auto_columns": null,
            "grid_auto_flow": null,
            "grid_auto_rows": null,
            "grid_column": null,
            "grid_gap": null,
            "grid_row": null,
            "grid_template_areas": null,
            "grid_template_columns": null,
            "grid_template_rows": null,
            "height": null,
            "justify_content": null,
            "justify_items": null,
            "left": null,
            "margin": null,
            "max_height": null,
            "max_width": null,
            "min_height": null,
            "min_width": null,
            "object_fit": null,
            "object_position": null,
            "order": null,
            "overflow": null,
            "overflow_x": null,
            "overflow_y": null,
            "padding": null,
            "right": null,
            "top": null,
            "visibility": null,
            "width": null
          }
        },
        "67ed531895f24597ad120d6419969c56": {
          "model_module": "@jupyter-widgets/controls",
          "model_name": "DescriptionStyleModel",
          "model_module_version": "1.5.0",
          "state": {
            "_model_module": "@jupyter-widgets/controls",
            "_model_module_version": "1.5.0",
            "_model_name": "DescriptionStyleModel",
            "_view_count": null,
            "_view_module": "@jupyter-widgets/base",
            "_view_module_version": "1.2.0",
            "_view_name": "StyleView",
            "description_width": ""
          }
        },
        "6180793b84fe4d9fb68d7b4a22541bba": {
          "model_module": "@jupyter-widgets/base",
          "model_name": "LayoutModel",
          "model_module_version": "1.2.0",
          "state": {
            "_model_module": "@jupyter-widgets/base",
            "_model_module_version": "1.2.0",
            "_model_name": "LayoutModel",
            "_view_count": null,
            "_view_module": "@jupyter-widgets/base",
            "_view_module_version": "1.2.0",
            "_view_name": "LayoutView",
            "align_content": null,
            "align_items": null,
            "align_self": null,
            "border": null,
            "bottom": null,
            "display": null,
            "flex": null,
            "flex_flow": null,
            "grid_area": null,
            "grid_auto_columns": null,
            "grid_auto_flow": null,
            "grid_auto_rows": null,
            "grid_column": null,
            "grid_gap": null,
            "grid_row": null,
            "grid_template_areas": null,
            "grid_template_columns": null,
            "grid_template_rows": null,
            "height": null,
            "justify_content": null,
            "justify_items": null,
            "left": null,
            "margin": null,
            "max_height": null,
            "max_width": null,
            "min_height": null,
            "min_width": null,
            "object_fit": null,
            "object_position": null,
            "order": null,
            "overflow": null,
            "overflow_x": null,
            "overflow_y": null,
            "padding": null,
            "right": null,
            "top": null,
            "visibility": null,
            "width": null
          }
        },
        "5059fcbe714e4feaa4b66050402540b0": {
          "model_module": "@jupyter-widgets/controls",
          "model_name": "ProgressStyleModel",
          "model_module_version": "1.5.0",
          "state": {
            "_model_module": "@jupyter-widgets/controls",
            "_model_module_version": "1.5.0",
            "_model_name": "ProgressStyleModel",
            "_view_count": null,
            "_view_module": "@jupyter-widgets/base",
            "_view_module_version": "1.2.0",
            "_view_name": "StyleView",
            "bar_color": null,
            "description_width": ""
          }
        },
        "1f43864bc649416989012c1abe74d007": {
          "model_module": "@jupyter-widgets/base",
          "model_name": "LayoutModel",
          "model_module_version": "1.2.0",
          "state": {
            "_model_module": "@jupyter-widgets/base",
            "_model_module_version": "1.2.0",
            "_model_name": "LayoutModel",
            "_view_count": null,
            "_view_module": "@jupyter-widgets/base",
            "_view_module_version": "1.2.0",
            "_view_name": "LayoutView",
            "align_content": null,
            "align_items": null,
            "align_self": null,
            "border": null,
            "bottom": null,
            "display": null,
            "flex": null,
            "flex_flow": null,
            "grid_area": null,
            "grid_auto_columns": null,
            "grid_auto_flow": null,
            "grid_auto_rows": null,
            "grid_column": null,
            "grid_gap": null,
            "grid_row": null,
            "grid_template_areas": null,
            "grid_template_columns": null,
            "grid_template_rows": null,
            "height": null,
            "justify_content": null,
            "justify_items": null,
            "left": null,
            "margin": null,
            "max_height": null,
            "max_width": null,
            "min_height": null,
            "min_width": null,
            "object_fit": null,
            "object_position": null,
            "order": null,
            "overflow": null,
            "overflow_x": null,
            "overflow_y": null,
            "padding": null,
            "right": null,
            "top": null,
            "visibility": null,
            "width": null
          }
        },
        "aea97af57f2c41f69bb1d92926b66905": {
          "model_module": "@jupyter-widgets/controls",
          "model_name": "DescriptionStyleModel",
          "model_module_version": "1.5.0",
          "state": {
            "_model_module": "@jupyter-widgets/controls",
            "_model_module_version": "1.5.0",
            "_model_name": "DescriptionStyleModel",
            "_view_count": null,
            "_view_module": "@jupyter-widgets/base",
            "_view_module_version": "1.2.0",
            "_view_name": "StyleView",
            "description_width": ""
          }
        }
      }
    }
  },
  "cells": [
    {
      "cell_type": "code",
      "execution_count": null,
      "metadata": {
        "colab": {
          "base_uri": "https://localhost:8080/"
        },
        "id": "yuQcHQ_vU_xn",
        "outputId": "d8ffce97-ef42-4a7d-a835-875c0a03bab9"
      },
      "outputs": [
        {
          "output_type": "stream",
          "name": "stdout",
          "text": [
            "\u001b[?25l   \u001b[90m━━━━━━━━━━━━━━━━━━━━━━━━━━━━━━━━━━━━━━━━\u001b[0m \u001b[32m0.0/887.3 kB\u001b[0m \u001b[31m?\u001b[0m eta \u001b[36m-:--:--\u001b[0m\r\u001b[2K   \u001b[91m━━━━━━━━━━━━━━━━━━━━━━━━━━━━━━━━━━━━━━━\u001b[0m\u001b[90m╺\u001b[0m \u001b[32m870.4/887.3 kB\u001b[0m \u001b[31m26.1 MB/s\u001b[0m eta \u001b[36m0:00:01\u001b[0m\r\u001b[2K   \u001b[90m━━━━━━━━━━━━━━━━━━━━━━━━━━━━━━━━━━━━━━━━\u001b[0m \u001b[32m887.3/887.3 kB\u001b[0m \u001b[31m14.0 MB/s\u001b[0m eta \u001b[36m0:00:00\u001b[0m\n",
            "\u001b[?25h"
          ]
        }
      ],
      "source": [
        "!pip install -U -q gdown ultralytics\n"
      ]
    },
    {
      "cell_type": "code",
      "source": [
        "import os\n",
        "import shutil\n",
        "import gdown\n",
        "import random\n",
        "import numpy as np\n",
        "import pandas as pd\n",
        "from tqdm.auto import tqdm\n",
        "from collections import Counter\n",
        "from xml.etree import ElementTree\n",
        "import cv2\n",
        "import matplotlib.pyplot as plt\n",
        "from IPython.display import Image, Video\n",
        "from ultralytics import YOLO"
      ],
      "metadata": {
        "colab": {
          "base_uri": "https://localhost:8080/"
        },
        "id": "7MdEvorLVKpe",
        "outputId": "8800f351-5822-4343-fdbe-4c60f9a1c184"
      },
      "execution_count": null,
      "outputs": [
        {
          "output_type": "stream",
          "name": "stdout",
          "text": [
            "Creating new Ultralytics Settings v0.0.6 file ✅ \n",
            "View Ultralytics Settings with 'yolo settings' or at '/root/.config/Ultralytics/settings.json'\n",
            "Update Settings with 'yolo settings key=value', i.e. 'yolo settings runs_dir=path/to/dir'. For help see https://docs.ultralytics.com/quickstart/#ultralytics-settings.\n"
          ]
        }
      ]
    },
    {
      "cell_type": "code",
      "source": [
        "raw_data_path = 'raw_data'"
      ],
      "metadata": {
        "id": "cMWdiCAvVVMx"
      },
      "execution_count": null,
      "outputs": []
    },
    {
      "cell_type": "code",
      "source": [
        "if os.path.exists(raw_data_path):\n",
        "    print('[INFO] Raw data directory exists, skiping download.')\n",
        "else:\n",
        "    os.makedirs(raw_data_path)\n",
        "    print('[INFO] Raw data directory is been created.')\n",
        "    print('[INFO] Downloading data...\\n')\n",
        "    gdown.download('https://drive.google.com/uc?id=1KoQzqR20qvIXDf1qsXCHGxD003IPmXMw', output=os.path.join(raw_data_path, 'Annotations.zip'))\n",
        "    gdown.download('https://drive.google.com/uc?id=11SXPqcESez9qTn4Z5Q3v35K9hRwO_epr', output=os.path.join(raw_data_path, 'JPEGImages-test.zip'))\n",
        "    gdown.download('https://drive.google.com/uc?id=1ZHbHDM6hYAEGDC_K5eiW0yF_lzVgpuir', output=os.path.join(raw_data_path, 'JPEGImages-trainval.zip'))\n",
        "    print('[INFO] Data is been downloaded.')"
      ],
      "metadata": {
        "colab": {
          "base_uri": "https://localhost:8080/"
        },
        "id": "ErS16FpbVbFi",
        "outputId": "cd6a7eab-6faf-4f65-ebb7-acab989e21df"
      },
      "execution_count": null,
      "outputs": [
        {
          "output_type": "stream",
          "name": "stdout",
          "text": [
            "[INFO] Raw data directory is been created.\n",
            "[INFO] Downloading data...\n",
            "\n"
          ]
        },
        {
          "output_type": "stream",
          "name": "stderr",
          "text": [
            "Downloading...\n",
            "From (original): https://drive.google.com/uc?id=1KoQzqR20qvIXDf1qsXCHGxD003IPmXMw\n",
            "From (redirected): https://drive.google.com/uc?id=1KoQzqR20qvIXDf1qsXCHGxD003IPmXMw&confirm=t&uuid=9ebe3c67-8c73-4742-a394-f8a8d2b8660a\n",
            "To: /content/raw_data/Annotations.zip\n",
            "100%|██████████| 32.1M/32.1M [00:00<00:00, 63.4MB/s]\n",
            "Downloading...\n",
            "From (original): https://drive.google.com/uc?id=11SXPqcESez9qTn4Z5Q3v35K9hRwO_epr\n",
            "From (redirected): https://drive.google.com/uc?id=11SXPqcESez9qTn4Z5Q3v35K9hRwO_epr&confirm=t&uuid=8db605c1-7e25-4585-b713-26cd4d984c62\n",
            "To: /content/raw_data/JPEGImages-test.zip\n",
            "100%|██████████| 3.52G/3.52G [00:54<00:00, 64.7MB/s]\n",
            "Downloading...\n",
            "From (original): https://drive.google.com/uc?id=1ZHbHDM6hYAEGDC_K5eiW0yF_lzVgpuir\n",
            "From (redirected): https://drive.google.com/uc?id=1ZHbHDM6hYAEGDC_K5eiW0yF_lzVgpuir&confirm=t&uuid=b2c68010-4d08-4387-a321-4b11439de133\n",
            "To: /content/raw_data/JPEGImages-trainval.zip\n",
            "100%|██████████| 3.88G/3.88G [00:45<00:00, 86.2MB/s]"
          ]
        },
        {
          "output_type": "stream",
          "name": "stdout",
          "text": [
            "[INFO] Data is been downloaded.\n"
          ]
        },
        {
          "output_type": "stream",
          "name": "stderr",
          "text": [
            "\n"
          ]
        }
      ]
    },
    {
      "cell_type": "code",
      "source": [
        "dior_data_path = 'dior_data'"
      ],
      "metadata": {
        "id": "lmfzOr0bWLfb"
      },
      "execution_count": null,
      "outputs": []
    },
    {
      "cell_type": "code",
      "source": [
        "# Extracting the zip data files\n",
        "if os.path.exists(dior_data_path):\n",
        "    print('[INFO] DIOR data directory exists, skiping extraction.')\n",
        "else:\n",
        "    os.makedirs(dior_data_path)\n",
        "    for i in os.listdir(raw_data_path):\n",
        "        filename = os.path.join(raw_data_path, i)\n",
        "        shutil.unpack_archive(filename=filename, extract_dir=dior_data_path)\n",
        "        print(f'[INFO] File \"{filename}\" is been extracted to \"{dior_data_path}\".')"
      ],
      "metadata": {
        "colab": {
          "base_uri": "https://localhost:8080/"
        },
        "id": "ot87a00iWYD0",
        "outputId": "e316a5d0-b702-4e78-e9a4-6fb648f25536"
      },
      "execution_count": null,
      "outputs": [
        {
          "output_type": "stream",
          "name": "stdout",
          "text": [
            "[INFO] DIOR data directory exists, skiping extraction.\n"
          ]
        }
      ]
    },
    {
      "cell_type": "code",
      "source": [
        "# Path for all the data\n",
        "annot_data_path = 'dior_data/Annotations/Horizontal Bounding Boxes'\n",
        "trainval_data_path = 'dior_data/JPEGImages-trainval'\n",
        "test_data_path = 'dior_data/JPEGImages-test'"
      ],
      "metadata": {
        "id": "ngjIV1Z1W8Y1"
      },
      "execution_count": null,
      "outputs": []
    },
    {
      "cell_type": "code",
      "source": [
        "# Creating a list of annotation files\n",
        "annot_file_list = sorted([os.path.join(annot_data_path, i) for i in os.listdir(annot_data_path) if '.xml' in i])\n",
        "annot_file_list[:5], annot_file_list[-5:], len(annot_file_list)"
      ],
      "metadata": {
        "colab": {
          "base_uri": "https://localhost:8080/"
        },
        "id": "FyE-diQmcOCA",
        "outputId": "30a60bbf-3d3b-411f-e1c6-47edc5ec1f98"
      },
      "execution_count": null,
      "outputs": [
        {
          "output_type": "execute_result",
          "data": {
            "text/plain": [
              "(['dior_data/Annotations/Horizontal Bounding Boxes/00001.xml',\n",
              "  'dior_data/Annotations/Horizontal Bounding Boxes/00002.xml',\n",
              "  'dior_data/Annotations/Horizontal Bounding Boxes/00003.xml',\n",
              "  'dior_data/Annotations/Horizontal Bounding Boxes/00004.xml',\n",
              "  'dior_data/Annotations/Horizontal Bounding Boxes/00005.xml'],\n",
              " ['dior_data/Annotations/Horizontal Bounding Boxes/23459.xml',\n",
              "  'dior_data/Annotations/Horizontal Bounding Boxes/23460.xml',\n",
              "  'dior_data/Annotations/Horizontal Bounding Boxes/23461.xml',\n",
              "  'dior_data/Annotations/Horizontal Bounding Boxes/23462.xml',\n",
              "  'dior_data/Annotations/Horizontal Bounding Boxes/23463.xml'],\n",
              " 23463)"
            ]
          },
          "metadata": {},
          "execution_count": 9
        }
      ]
    },
    {
      "cell_type": "code",
      "source": [
        "\n",
        "# Creating a list of training and validation images\n",
        "trainval_file_list = sorted([os.path.join(trainval_data_path, i) for i in os.listdir(trainval_data_path) if '.jpg' in i])\n",
        "trainval_file_list[:5], trainval_file_list[-5:], len(trainval_file_list)"
      ],
      "metadata": {
        "colab": {
          "base_uri": "https://localhost:8080/"
        },
        "id": "TczCQF4IcQRy",
        "outputId": "ffee9286-57ee-4931-d447-686ac68b7365"
      },
      "execution_count": null,
      "outputs": [
        {
          "output_type": "execute_result",
          "data": {
            "text/plain": [
              "(['dior_data/JPEGImages-trainval/00001.jpg',\n",
              "  'dior_data/JPEGImages-trainval/00002.jpg',\n",
              "  'dior_data/JPEGImages-trainval/00003.jpg',\n",
              "  'dior_data/JPEGImages-trainval/00004.jpg',\n",
              "  'dior_data/JPEGImages-trainval/00005.jpg'],\n",
              " ['dior_data/JPEGImages-trainval/11721.jpg',\n",
              "  'dior_data/JPEGImages-trainval/11722.jpg',\n",
              "  'dior_data/JPEGImages-trainval/11723.jpg',\n",
              "  'dior_data/JPEGImages-trainval/11724.jpg',\n",
              "  'dior_data/JPEGImages-trainval/11725.jpg'],\n",
              " 11725)"
            ]
          },
          "metadata": {},
          "execution_count": 10
        }
      ]
    },
    {
      "cell_type": "code",
      "source": [
        "# Creating a list of testing images\n",
        "test_file_list = sorted([os.path.join(test_data_path, i) for i in os.listdir(test_data_path) if '.jpg' in i])\n",
        "test_file_list[:5], test_file_list[-5:], len(test_file_list)"
      ],
      "metadata": {
        "colab": {
          "base_uri": "https://localhost:8080/"
        },
        "id": "Z-TgAWurcUEK",
        "outputId": "a60276b2-1368-4a1f-b208-0ee886022ebc"
      },
      "execution_count": null,
      "outputs": [
        {
          "output_type": "execute_result",
          "data": {
            "text/plain": [
              "(['dior_data/JPEGImages-test/11726.jpg',\n",
              "  'dior_data/JPEGImages-test/11727.jpg',\n",
              "  'dior_data/JPEGImages-test/11728.jpg',\n",
              "  'dior_data/JPEGImages-test/11729.jpg',\n",
              "  'dior_data/JPEGImages-test/11730.jpg'],\n",
              " ['dior_data/JPEGImages-test/23459.jpg',\n",
              "  'dior_data/JPEGImages-test/23460.jpg',\n",
              "  'dior_data/JPEGImages-test/23461.jpg',\n",
              "  'dior_data/JPEGImages-test/23462.jpg',\n",
              "  'dior_data/JPEGImages-test/23463.jpg'],\n",
              " 11738)"
            ]
          },
          "metadata": {},
          "execution_count": 11
        }
      ]
    },
    {
      "cell_type": "code",
      "source": [
        "# Combining all the images path in one list\n",
        "image_data_file_list = np.concatenate((trainval_file_list, test_file_list))\n",
        "image_data_file_list[:5], image_data_file_list[-5:], len(image_data_file_list)"
      ],
      "metadata": {
        "colab": {
          "base_uri": "https://localhost:8080/"
        },
        "id": "xqdsvnT0cX8W",
        "outputId": "19488f3a-c027-4ecd-8c03-4a2dc4f0938b"
      },
      "execution_count": null,
      "outputs": [
        {
          "output_type": "execute_result",
          "data": {
            "text/plain": [
              "(array(['dior_data/JPEGImages-trainval/00001.jpg', 'dior_data/JPEGImages-trainval/00002.jpg', 'dior_data/JPEGImages-trainval/00003.jpg', 'dior_data/JPEGImages-trainval/00004.jpg', 'dior_data/JPEGImages-trainval/00005.jpg'], dtype='<U39'),\n",
              " array(['dior_data/JPEGImages-test/23459.jpg', 'dior_data/JPEGImages-test/23460.jpg', 'dior_data/JPEGImages-test/23461.jpg', 'dior_data/JPEGImages-test/23462.jpg', 'dior_data/JPEGImages-test/23463.jpg'], dtype='<U39'),\n",
              " 23463)"
            ]
          },
          "metadata": {},
          "execution_count": 12
        }
      ]
    },
    {
      "cell_type": "code",
      "source": [
        "meta_list = [] # To store general info for every image\n",
        "object_list_train = [] # To store object classes info of train dataset\n",
        "object_list_test = [] # To store object classes info of test dataset\n",
        "\n",
        "for file in tqdm(annot_file_list):\n",
        "    meta_dict = {}\n",
        "    root = ElementTree.parse(file).getroot()\n",
        "\n",
        "    # Filename - extracted\n",
        "    for path in image_data_file_list:\n",
        "        if root.find('filename').text in path:\n",
        "            meta_dict['filename'] = path\n",
        "            meta_dict['split_type'] = path.split('/')[1]\n",
        "\n",
        "    # Width - extracted\n",
        "    meta_dict['width'] = int(root.find('size').find('width').text)\n",
        "\n",
        "    # Height - extracted\n",
        "    meta_dict['height'] = int(root.find('size').find('height').text)\n",
        "\n",
        "    # Objects - extracted and combined into a single string\n",
        "    meta_dict['objects'] = ', '.join(np.unique([obj.find('name').text for obj in root.findall('object')]))\n",
        "    meta_list.append(meta_dict)\n",
        "\n",
        "    # Collecting all the object classes instance and counting total appearance\n",
        "    for obj in root.findall('object'):\n",
        "        if meta_dict['split_type'] == 'JPEGImages-trainval':\n",
        "            object_list_train.append(obj.find('name').text)\n",
        "        elif meta_dict['split_type'] == 'JPEGImages-test':\n",
        "            object_list_test.append(obj.find('name').text)\n",
        "\n",
        "# Counting the instance for every object class\n",
        "object_instance_list_train = Counter(sorted(object_list_train))\n",
        "object_instance_list_test = Counter(sorted(object_list_test))\n",
        "\n",
        "# Collecting Class list and indexing it also in a sequence\n",
        "class_dict = {k: v for v, k in enumerate(sorted(np.unique(object_list_train)))}\n",
        "\n",
        "meta_list[:5], object_instance_list_train, object_instance_list_test, class_dict"
      ],
      "metadata": {
        "colab": {
          "base_uri": "https://localhost:8080/",
          "height": 1000,
          "referenced_widgets": [
            "fbe228a78d0e4baab0006a747bf3339f",
            "82159dbbc88b41d0a6c2d1f1d0c4efb6",
            "45329d2fdaa344c6b54ce1d6a61bfb5e",
            "7045f293ef2740b9af9085d7276ff0d1",
            "a8b7f517c7ca4d8ca16dbbb65b9471fb",
            "0df2edad23ea405a8bb956b868abe4bc",
            "67ed531895f24597ad120d6419969c56",
            "6180793b84fe4d9fb68d7b4a22541bba",
            "5059fcbe714e4feaa4b66050402540b0",
            "1f43864bc649416989012c1abe74d007",
            "aea97af57f2c41f69bb1d92926b66905"
          ]
        },
        "id": "q6yonRyxccpY",
        "outputId": "3d9f821e-59f6-423d-ac12-f7b20ba4d791"
      },
      "execution_count": null,
      "outputs": [
        {
          "output_type": "display_data",
          "data": {
            "text/plain": [
              "  0%|          | 0/23463 [00:00<?, ?it/s]"
            ],
            "application/vnd.jupyter.widget-view+json": {
              "version_major": 2,
              "version_minor": 0,
              "model_id": "fbe228a78d0e4baab0006a747bf3339f"
            }
          },
          "metadata": {}
        },
        {
          "output_type": "execute_result",
          "data": {
            "text/plain": [
              "([{'filename': 'dior_data/JPEGImages-trainval/00001.jpg',\n",
              "   'split_type': 'JPEGImages-trainval',\n",
              "   'width': 800,\n",
              "   'height': 800,\n",
              "   'objects': 'golffield'},\n",
              "  {'filename': 'dior_data/JPEGImages-trainval/00002.jpg',\n",
              "   'split_type': 'JPEGImages-trainval',\n",
              "   'width': 800,\n",
              "   'height': 800,\n",
              "   'objects': 'Expressway-toll-station, vehicle'},\n",
              "  {'filename': 'dior_data/JPEGImages-trainval/00003.jpg',\n",
              "   'split_type': 'JPEGImages-trainval',\n",
              "   'width': 800,\n",
              "   'height': 800,\n",
              "   'objects': 'trainstation'},\n",
              "  {'filename': 'dior_data/JPEGImages-trainval/00004.jpg',\n",
              "   'split_type': 'JPEGImages-trainval',\n",
              "   'width': 800,\n",
              "   'height': 800,\n",
              "   'objects': 'chimney'},\n",
              "  {'filename': 'dior_data/JPEGImages-trainval/00005.jpg',\n",
              "   'split_type': 'JPEGImages-trainval',\n",
              "   'width': 800,\n",
              "   'height': 800,\n",
              "   'objects': 'storagetank, vehicle'}],\n",
              " Counter({'Expressway-Service-area': 1080,\n",
              "          'Expressway-toll-station': 610,\n",
              "          'airplane': 1888,\n",
              "          'airport': 662,\n",
              "          'baseballfield': 2384,\n",
              "          'basketballcourt': 1077,\n",
              "          'bridge': 1367,\n",
              "          'chimney': 649,\n",
              "          'dam': 512,\n",
              "          'golffield': 511,\n",
              "          'groundtrackfield': 1162,\n",
              "          'harbor': 2364,\n",
              "          'overpass': 1330,\n",
              "          'ship': 27351,\n",
              "          'stadium': 595,\n",
              "          'storagetank': 3042,\n",
              "          'tenniscourt': 4898,\n",
              "          'trainstation': 501,\n",
              "          'vehicle': 13725,\n",
              "          'windmill': 2365}),\n",
              " Counter({'Expressway-Service-area': 1085,\n",
              "          'Expressway-toll-station': 688,\n",
              "          'airplane': 8212,\n",
              "          'airport': 666,\n",
              "          'baseballfield': 3434,\n",
              "          'basketballcourt': 2146,\n",
              "          'bridge': 2589,\n",
              "          'chimney': 1031,\n",
              "          'dam': 538,\n",
              "          'golffield': 575,\n",
              "          'groundtrackfield': 1885,\n",
              "          'harbor': 3105,\n",
              "          'overpass': 1782,\n",
              "          'ship': 35186,\n",
              "          'stadium': 672,\n",
              "          'storagetank': 23361,\n",
              "          'tenniscourt': 7343,\n",
              "          'trainstation': 509,\n",
              "          'vehicle': 26640,\n",
              "          'windmill': 2998}),\n",
              " {'Expressway-Service-area': 0,\n",
              "  'Expressway-toll-station': 1,\n",
              "  'airplane': 2,\n",
              "  'airport': 3,\n",
              "  'baseballfield': 4,\n",
              "  'basketballcourt': 5,\n",
              "  'bridge': 6,\n",
              "  'chimney': 7,\n",
              "  'dam': 8,\n",
              "  'golffield': 9,\n",
              "  'groundtrackfield': 10,\n",
              "  'harbor': 11,\n",
              "  'overpass': 12,\n",
              "  'ship': 13,\n",
              "  'stadium': 14,\n",
              "  'storagetank': 15,\n",
              "  'tenniscourt': 16,\n",
              "  'trainstation': 17,\n",
              "  'vehicle': 18,\n",
              "  'windmill': 19})"
            ]
          },
          "metadata": {},
          "execution_count": 13
        }
      ]
    },
    {
      "cell_type": "code",
      "source": [
        "# Creating a dataframe from the extracted data\n",
        "meta_df = pd.DataFrame(meta_list)\n",
        "meta_df"
      ],
      "metadata": {
        "colab": {
          "base_uri": "https://localhost:8080/",
          "height": 423
        },
        "id": "6ShJN72Chruw",
        "outputId": "e76b6a39-2a22-4cc5-fb95-5b47c577c08d"
      },
      "execution_count": null,
      "outputs": [
        {
          "output_type": "execute_result",
          "data": {
            "text/plain": [
              "                                      filename           split_type  width  \\\n",
              "0      dior_data/JPEGImages-trainval/00001.jpg  JPEGImages-trainval    800   \n",
              "1      dior_data/JPEGImages-trainval/00002.jpg  JPEGImages-trainval    800   \n",
              "2      dior_data/JPEGImages-trainval/00003.jpg  JPEGImages-trainval    800   \n",
              "3      dior_data/JPEGImages-trainval/00004.jpg  JPEGImages-trainval    800   \n",
              "4      dior_data/JPEGImages-trainval/00005.jpg  JPEGImages-trainval    800   \n",
              "...                                        ...                  ...    ...   \n",
              "23458      dior_data/JPEGImages-test/23459.jpg      JPEGImages-test    800   \n",
              "23459      dior_data/JPEGImages-test/23460.jpg      JPEGImages-test    800   \n",
              "23460      dior_data/JPEGImages-test/23461.jpg      JPEGImages-test    800   \n",
              "23461      dior_data/JPEGImages-test/23462.jpg      JPEGImages-test    800   \n",
              "23462      dior_data/JPEGImages-test/23463.jpg      JPEGImages-test    800   \n",
              "\n",
              "       height                                 objects  \n",
              "0         800                               golffield  \n",
              "1         800        Expressway-toll-station, vehicle  \n",
              "2         800                            trainstation  \n",
              "3         800                                 chimney  \n",
              "4         800                    storagetank, vehicle  \n",
              "...       ...                                     ...  \n",
              "23458     800                                 vehicle  \n",
              "23459     800  groundtrackfield, tenniscourt, vehicle  \n",
              "23460     800                       overpass, vehicle  \n",
              "23461     800                       overpass, vehicle  \n",
              "23462     800                       overpass, vehicle  \n",
              "\n",
              "[23463 rows x 5 columns]"
            ],
            "text/html": [
              "\n",
              "  <div id=\"df-e9fdd15e-a959-42a9-8399-56491de9c560\" class=\"colab-df-container\">\n",
              "    <div>\n",
              "<style scoped>\n",
              "    .dataframe tbody tr th:only-of-type {\n",
              "        vertical-align: middle;\n",
              "    }\n",
              "\n",
              "    .dataframe tbody tr th {\n",
              "        vertical-align: top;\n",
              "    }\n",
              "\n",
              "    .dataframe thead th {\n",
              "        text-align: right;\n",
              "    }\n",
              "</style>\n",
              "<table border=\"1\" class=\"dataframe\">\n",
              "  <thead>\n",
              "    <tr style=\"text-align: right;\">\n",
              "      <th></th>\n",
              "      <th>filename</th>\n",
              "      <th>split_type</th>\n",
              "      <th>width</th>\n",
              "      <th>height</th>\n",
              "      <th>objects</th>\n",
              "    </tr>\n",
              "  </thead>\n",
              "  <tbody>\n",
              "    <tr>\n",
              "      <th>0</th>\n",
              "      <td>dior_data/JPEGImages-trainval/00001.jpg</td>\n",
              "      <td>JPEGImages-trainval</td>\n",
              "      <td>800</td>\n",
              "      <td>800</td>\n",
              "      <td>golffield</td>\n",
              "    </tr>\n",
              "    <tr>\n",
              "      <th>1</th>\n",
              "      <td>dior_data/JPEGImages-trainval/00002.jpg</td>\n",
              "      <td>JPEGImages-trainval</td>\n",
              "      <td>800</td>\n",
              "      <td>800</td>\n",
              "      <td>Expressway-toll-station, vehicle</td>\n",
              "    </tr>\n",
              "    <tr>\n",
              "      <th>2</th>\n",
              "      <td>dior_data/JPEGImages-trainval/00003.jpg</td>\n",
              "      <td>JPEGImages-trainval</td>\n",
              "      <td>800</td>\n",
              "      <td>800</td>\n",
              "      <td>trainstation</td>\n",
              "    </tr>\n",
              "    <tr>\n",
              "      <th>3</th>\n",
              "      <td>dior_data/JPEGImages-trainval/00004.jpg</td>\n",
              "      <td>JPEGImages-trainval</td>\n",
              "      <td>800</td>\n",
              "      <td>800</td>\n",
              "      <td>chimney</td>\n",
              "    </tr>\n",
              "    <tr>\n",
              "      <th>4</th>\n",
              "      <td>dior_data/JPEGImages-trainval/00005.jpg</td>\n",
              "      <td>JPEGImages-trainval</td>\n",
              "      <td>800</td>\n",
              "      <td>800</td>\n",
              "      <td>storagetank, vehicle</td>\n",
              "    </tr>\n",
              "    <tr>\n",
              "      <th>...</th>\n",
              "      <td>...</td>\n",
              "      <td>...</td>\n",
              "      <td>...</td>\n",
              "      <td>...</td>\n",
              "      <td>...</td>\n",
              "    </tr>\n",
              "    <tr>\n",
              "      <th>23458</th>\n",
              "      <td>dior_data/JPEGImages-test/23459.jpg</td>\n",
              "      <td>JPEGImages-test</td>\n",
              "      <td>800</td>\n",
              "      <td>800</td>\n",
              "      <td>vehicle</td>\n",
              "    </tr>\n",
              "    <tr>\n",
              "      <th>23459</th>\n",
              "      <td>dior_data/JPEGImages-test/23460.jpg</td>\n",
              "      <td>JPEGImages-test</td>\n",
              "      <td>800</td>\n",
              "      <td>800</td>\n",
              "      <td>groundtrackfield, tenniscourt, vehicle</td>\n",
              "    </tr>\n",
              "    <tr>\n",
              "      <th>23460</th>\n",
              "      <td>dior_data/JPEGImages-test/23461.jpg</td>\n",
              "      <td>JPEGImages-test</td>\n",
              "      <td>800</td>\n",
              "      <td>800</td>\n",
              "      <td>overpass, vehicle</td>\n",
              "    </tr>\n",
              "    <tr>\n",
              "      <th>23461</th>\n",
              "      <td>dior_data/JPEGImages-test/23462.jpg</td>\n",
              "      <td>JPEGImages-test</td>\n",
              "      <td>800</td>\n",
              "      <td>800</td>\n",
              "      <td>overpass, vehicle</td>\n",
              "    </tr>\n",
              "    <tr>\n",
              "      <th>23462</th>\n",
              "      <td>dior_data/JPEGImages-test/23463.jpg</td>\n",
              "      <td>JPEGImages-test</td>\n",
              "      <td>800</td>\n",
              "      <td>800</td>\n",
              "      <td>overpass, vehicle</td>\n",
              "    </tr>\n",
              "  </tbody>\n",
              "</table>\n",
              "<p>23463 rows × 5 columns</p>\n",
              "</div>\n",
              "    <div class=\"colab-df-buttons\">\n",
              "\n",
              "  <div class=\"colab-df-container\">\n",
              "    <button class=\"colab-df-convert\" onclick=\"convertToInteractive('df-e9fdd15e-a959-42a9-8399-56491de9c560')\"\n",
              "            title=\"Convert this dataframe to an interactive table.\"\n",
              "            style=\"display:none;\">\n",
              "\n",
              "  <svg xmlns=\"http://www.w3.org/2000/svg\" height=\"24px\" viewBox=\"0 -960 960 960\">\n",
              "    <path d=\"M120-120v-720h720v720H120Zm60-500h600v-160H180v160Zm220 220h160v-160H400v160Zm0 220h160v-160H400v160ZM180-400h160v-160H180v160Zm440 0h160v-160H620v160ZM180-180h160v-160H180v160Zm440 0h160v-160H620v160Z\"/>\n",
              "  </svg>\n",
              "    </button>\n",
              "\n",
              "  <style>\n",
              "    .colab-df-container {\n",
              "      display:flex;\n",
              "      gap: 12px;\n",
              "    }\n",
              "\n",
              "    .colab-df-convert {\n",
              "      background-color: #E8F0FE;\n",
              "      border: none;\n",
              "      border-radius: 50%;\n",
              "      cursor: pointer;\n",
              "      display: none;\n",
              "      fill: #1967D2;\n",
              "      height: 32px;\n",
              "      padding: 0 0 0 0;\n",
              "      width: 32px;\n",
              "    }\n",
              "\n",
              "    .colab-df-convert:hover {\n",
              "      background-color: #E2EBFA;\n",
              "      box-shadow: 0px 1px 2px rgba(60, 64, 67, 0.3), 0px 1px 3px 1px rgba(60, 64, 67, 0.15);\n",
              "      fill: #174EA6;\n",
              "    }\n",
              "\n",
              "    .colab-df-buttons div {\n",
              "      margin-bottom: 4px;\n",
              "    }\n",
              "\n",
              "    [theme=dark] .colab-df-convert {\n",
              "      background-color: #3B4455;\n",
              "      fill: #D2E3FC;\n",
              "    }\n",
              "\n",
              "    [theme=dark] .colab-df-convert:hover {\n",
              "      background-color: #434B5C;\n",
              "      box-shadow: 0px 1px 3px 1px rgba(0, 0, 0, 0.15);\n",
              "      filter: drop-shadow(0px 1px 2px rgba(0, 0, 0, 0.3));\n",
              "      fill: #FFFFFF;\n",
              "    }\n",
              "  </style>\n",
              "\n",
              "    <script>\n",
              "      const buttonEl =\n",
              "        document.querySelector('#df-e9fdd15e-a959-42a9-8399-56491de9c560 button.colab-df-convert');\n",
              "      buttonEl.style.display =\n",
              "        google.colab.kernel.accessAllowed ? 'block' : 'none';\n",
              "\n",
              "      async function convertToInteractive(key) {\n",
              "        const element = document.querySelector('#df-e9fdd15e-a959-42a9-8399-56491de9c560');\n",
              "        const dataTable =\n",
              "          await google.colab.kernel.invokeFunction('convertToInteractive',\n",
              "                                                    [key], {});\n",
              "        if (!dataTable) return;\n",
              "\n",
              "        const docLinkHtml = 'Like what you see? Visit the ' +\n",
              "          '<a target=\"_blank\" href=https://colab.research.google.com/notebooks/data_table.ipynb>data table notebook</a>'\n",
              "          + ' to learn more about interactive tables.';\n",
              "        element.innerHTML = '';\n",
              "        dataTable['output_type'] = 'display_data';\n",
              "        await google.colab.output.renderOutput(dataTable, element);\n",
              "        const docLink = document.createElement('div');\n",
              "        docLink.innerHTML = docLinkHtml;\n",
              "        element.appendChild(docLink);\n",
              "      }\n",
              "    </script>\n",
              "  </div>\n",
              "\n",
              "\n",
              "<div id=\"df-0d7db37d-93c8-4def-8182-0f67b8da0f64\">\n",
              "  <button class=\"colab-df-quickchart\" onclick=\"quickchart('df-0d7db37d-93c8-4def-8182-0f67b8da0f64')\"\n",
              "            title=\"Suggest charts\"\n",
              "            style=\"display:none;\">\n",
              "\n",
              "<svg xmlns=\"http://www.w3.org/2000/svg\" height=\"24px\"viewBox=\"0 0 24 24\"\n",
              "     width=\"24px\">\n",
              "    <g>\n",
              "        <path d=\"M19 3H5c-1.1 0-2 .9-2 2v14c0 1.1.9 2 2 2h14c1.1 0 2-.9 2-2V5c0-1.1-.9-2-2-2zM9 17H7v-7h2v7zm4 0h-2V7h2v10zm4 0h-2v-4h2v4z\"/>\n",
              "    </g>\n",
              "</svg>\n",
              "  </button>\n",
              "\n",
              "<style>\n",
              "  .colab-df-quickchart {\n",
              "      --bg-color: #E8F0FE;\n",
              "      --fill-color: #1967D2;\n",
              "      --hover-bg-color: #E2EBFA;\n",
              "      --hover-fill-color: #174EA6;\n",
              "      --disabled-fill-color: #AAA;\n",
              "      --disabled-bg-color: #DDD;\n",
              "  }\n",
              "\n",
              "  [theme=dark] .colab-df-quickchart {\n",
              "      --bg-color: #3B4455;\n",
              "      --fill-color: #D2E3FC;\n",
              "      --hover-bg-color: #434B5C;\n",
              "      --hover-fill-color: #FFFFFF;\n",
              "      --disabled-bg-color: #3B4455;\n",
              "      --disabled-fill-color: #666;\n",
              "  }\n",
              "\n",
              "  .colab-df-quickchart {\n",
              "    background-color: var(--bg-color);\n",
              "    border: none;\n",
              "    border-radius: 50%;\n",
              "    cursor: pointer;\n",
              "    display: none;\n",
              "    fill: var(--fill-color);\n",
              "    height: 32px;\n",
              "    padding: 0;\n",
              "    width: 32px;\n",
              "  }\n",
              "\n",
              "  .colab-df-quickchart:hover {\n",
              "    background-color: var(--hover-bg-color);\n",
              "    box-shadow: 0 1px 2px rgba(60, 64, 67, 0.3), 0 1px 3px 1px rgba(60, 64, 67, 0.15);\n",
              "    fill: var(--button-hover-fill-color);\n",
              "  }\n",
              "\n",
              "  .colab-df-quickchart-complete:disabled,\n",
              "  .colab-df-quickchart-complete:disabled:hover {\n",
              "    background-color: var(--disabled-bg-color);\n",
              "    fill: var(--disabled-fill-color);\n",
              "    box-shadow: none;\n",
              "  }\n",
              "\n",
              "  .colab-df-spinner {\n",
              "    border: 2px solid var(--fill-color);\n",
              "    border-color: transparent;\n",
              "    border-bottom-color: var(--fill-color);\n",
              "    animation:\n",
              "      spin 1s steps(1) infinite;\n",
              "  }\n",
              "\n",
              "  @keyframes spin {\n",
              "    0% {\n",
              "      border-color: transparent;\n",
              "      border-bottom-color: var(--fill-color);\n",
              "      border-left-color: var(--fill-color);\n",
              "    }\n",
              "    20% {\n",
              "      border-color: transparent;\n",
              "      border-left-color: var(--fill-color);\n",
              "      border-top-color: var(--fill-color);\n",
              "    }\n",
              "    30% {\n",
              "      border-color: transparent;\n",
              "      border-left-color: var(--fill-color);\n",
              "      border-top-color: var(--fill-color);\n",
              "      border-right-color: var(--fill-color);\n",
              "    }\n",
              "    40% {\n",
              "      border-color: transparent;\n",
              "      border-right-color: var(--fill-color);\n",
              "      border-top-color: var(--fill-color);\n",
              "    }\n",
              "    60% {\n",
              "      border-color: transparent;\n",
              "      border-right-color: var(--fill-color);\n",
              "    }\n",
              "    80% {\n",
              "      border-color: transparent;\n",
              "      border-right-color: var(--fill-color);\n",
              "      border-bottom-color: var(--fill-color);\n",
              "    }\n",
              "    90% {\n",
              "      border-color: transparent;\n",
              "      border-bottom-color: var(--fill-color);\n",
              "    }\n",
              "  }\n",
              "</style>\n",
              "\n",
              "  <script>\n",
              "    async function quickchart(key) {\n",
              "      const quickchartButtonEl =\n",
              "        document.querySelector('#' + key + ' button');\n",
              "      quickchartButtonEl.disabled = true;  // To prevent multiple clicks.\n",
              "      quickchartButtonEl.classList.add('colab-df-spinner');\n",
              "      try {\n",
              "        const charts = await google.colab.kernel.invokeFunction(\n",
              "            'suggestCharts', [key], {});\n",
              "      } catch (error) {\n",
              "        console.error('Error during call to suggestCharts:', error);\n",
              "      }\n",
              "      quickchartButtonEl.classList.remove('colab-df-spinner');\n",
              "      quickchartButtonEl.classList.add('colab-df-quickchart-complete');\n",
              "    }\n",
              "    (() => {\n",
              "      let quickchartButtonEl =\n",
              "        document.querySelector('#df-0d7db37d-93c8-4def-8182-0f67b8da0f64 button');\n",
              "      quickchartButtonEl.style.display =\n",
              "        google.colab.kernel.accessAllowed ? 'block' : 'none';\n",
              "    })();\n",
              "  </script>\n",
              "</div>\n",
              "\n",
              "  <div id=\"id_23716d1d-e695-49d9-912d-cff9cf025324\">\n",
              "    <style>\n",
              "      .colab-df-generate {\n",
              "        background-color: #E8F0FE;\n",
              "        border: none;\n",
              "        border-radius: 50%;\n",
              "        cursor: pointer;\n",
              "        display: none;\n",
              "        fill: #1967D2;\n",
              "        height: 32px;\n",
              "        padding: 0 0 0 0;\n",
              "        width: 32px;\n",
              "      }\n",
              "\n",
              "      .colab-df-generate:hover {\n",
              "        background-color: #E2EBFA;\n",
              "        box-shadow: 0px 1px 2px rgba(60, 64, 67, 0.3), 0px 1px 3px 1px rgba(60, 64, 67, 0.15);\n",
              "        fill: #174EA6;\n",
              "      }\n",
              "\n",
              "      [theme=dark] .colab-df-generate {\n",
              "        background-color: #3B4455;\n",
              "        fill: #D2E3FC;\n",
              "      }\n",
              "\n",
              "      [theme=dark] .colab-df-generate:hover {\n",
              "        background-color: #434B5C;\n",
              "        box-shadow: 0px 1px 3px 1px rgba(0, 0, 0, 0.15);\n",
              "        filter: drop-shadow(0px 1px 2px rgba(0, 0, 0, 0.3));\n",
              "        fill: #FFFFFF;\n",
              "      }\n",
              "    </style>\n",
              "    <button class=\"colab-df-generate\" onclick=\"generateWithVariable('meta_df')\"\n",
              "            title=\"Generate code using this dataframe.\"\n",
              "            style=\"display:none;\">\n",
              "\n",
              "  <svg xmlns=\"http://www.w3.org/2000/svg\" height=\"24px\"viewBox=\"0 0 24 24\"\n",
              "       width=\"24px\">\n",
              "    <path d=\"M7,19H8.4L18.45,9,17,7.55,7,17.6ZM5,21V16.75L18.45,3.32a2,2,0,0,1,2.83,0l1.4,1.43a1.91,1.91,0,0,1,.58,1.4,1.91,1.91,0,0,1-.58,1.4L9.25,21ZM18.45,9,17,7.55Zm-12,3A5.31,5.31,0,0,0,4.9,8.1,5.31,5.31,0,0,0,1,6.5,5.31,5.31,0,0,0,4.9,4.9,5.31,5.31,0,0,0,6.5,1,5.31,5.31,0,0,0,8.1,4.9,5.31,5.31,0,0,0,12,6.5,5.46,5.46,0,0,0,6.5,12Z\"/>\n",
              "  </svg>\n",
              "    </button>\n",
              "    <script>\n",
              "      (() => {\n",
              "      const buttonEl =\n",
              "        document.querySelector('#id_23716d1d-e695-49d9-912d-cff9cf025324 button.colab-df-generate');\n",
              "      buttonEl.style.display =\n",
              "        google.colab.kernel.accessAllowed ? 'block' : 'none';\n",
              "\n",
              "      buttonEl.onclick = () => {\n",
              "        google.colab.notebook.generateWithVariable('meta_df');\n",
              "      }\n",
              "      })();\n",
              "    </script>\n",
              "  </div>\n",
              "\n",
              "    </div>\n",
              "  </div>\n"
            ],
            "application/vnd.google.colaboratory.intrinsic+json": {
              "type": "dataframe",
              "variable_name": "meta_df",
              "summary": "{\n  \"name\": \"meta_df\",\n  \"rows\": 23463,\n  \"fields\": [\n    {\n      \"column\": \"filename\",\n      \"properties\": {\n        \"dtype\": \"string\",\n        \"num_unique_values\": 23463,\n        \"samples\": [\n          \"dior_data/JPEGImages-test/11973.jpg\",\n          \"dior_data/JPEGImages-trainval/03275.jpg\",\n          \"dior_data/JPEGImages-test/20012.jpg\"\n        ],\n        \"semantic_type\": \"\",\n        \"description\": \"\"\n      }\n    },\n    {\n      \"column\": \"split_type\",\n      \"properties\": {\n        \"dtype\": \"category\",\n        \"num_unique_values\": 2,\n        \"samples\": [\n          \"JPEGImages-test\",\n          \"JPEGImages-trainval\"\n        ],\n        \"semantic_type\": \"\",\n        \"description\": \"\"\n      }\n    },\n    {\n      \"column\": \"width\",\n      \"properties\": {\n        \"dtype\": \"number\",\n        \"std\": 0,\n        \"min\": 800,\n        \"max\": 800,\n        \"num_unique_values\": 1,\n        \"samples\": [\n          800\n        ],\n        \"semantic_type\": \"\",\n        \"description\": \"\"\n      }\n    },\n    {\n      \"column\": \"height\",\n      \"properties\": {\n        \"dtype\": \"number\",\n        \"std\": 0,\n        \"min\": 800,\n        \"max\": 800,\n        \"num_unique_values\": 1,\n        \"samples\": [\n          800\n        ],\n        \"semantic_type\": \"\",\n        \"description\": \"\"\n      }\n    },\n    {\n      \"column\": \"objects\",\n      \"properties\": {\n        \"dtype\": \"category\",\n        \"num_unique_values\": 526,\n        \"samples\": [\n          \"baseballfield, bridge, storagetank\"\n        ],\n        \"semantic_type\": \"\",\n        \"description\": \"\"\n      }\n    }\n  ]\n}"
            }
          },
          "metadata": {},
          "execution_count": 14
        }
      ]
    },
    {
      "cell_type": "code",
      "source": [
        "print(f'Size of the images width: {meta_df.width.unique()[0]} and height: {meta_df.height.unique()[0]}')\n",
        "print(f'Total number of classes with all possible combination: {len(meta_df.objects.unique())}')\n",
        "print(f'Total length of the training/validation dataset: {len(meta_df[meta_df[\"split_type\"] == \"JPEGImages-trainval\"])} and testing dataset: {len(meta_df[meta_df[\"split_type\"] == \"JPEGImages-test\"])}')"
      ],
      "metadata": {
        "colab": {
          "base_uri": "https://localhost:8080/",
          "height": 193
        },
        "id": "1qKxz-Ddh6SN",
        "outputId": "d0528aaa-6ff5-439f-bf4e-f5f6aad99566"
      },
      "execution_count": null,
      "outputs": [
        {
          "output_type": "error",
          "ename": "NameError",
          "evalue": "name 'meta_df' is not defined",
          "traceback": [
            "\u001b[0;31m---------------------------------------------------------------------------\u001b[0m",
            "\u001b[0;31mNameError\u001b[0m                                 Traceback (most recent call last)",
            "\u001b[0;32m<ipython-input-2-1c0337752131>\u001b[0m in \u001b[0;36m<cell line: 1>\u001b[0;34m()\u001b[0m\n\u001b[0;32m----> 1\u001b[0;31m \u001b[0mprint\u001b[0m\u001b[0;34m(\u001b[0m\u001b[0;34mf'Size of the images width: {meta_df.width.unique()[0]} and height: {meta_df.height.unique()[0]}'\u001b[0m\u001b[0;34m)\u001b[0m\u001b[0;34m\u001b[0m\u001b[0;34m\u001b[0m\u001b[0m\n\u001b[0m\u001b[1;32m      2\u001b[0m \u001b[0mprint\u001b[0m\u001b[0;34m(\u001b[0m\u001b[0;34mf'Total number of classes with all possible combination: {len(meta_df.objects.unique())}'\u001b[0m\u001b[0;34m)\u001b[0m\u001b[0;34m\u001b[0m\u001b[0;34m\u001b[0m\u001b[0m\n\u001b[1;32m      3\u001b[0m \u001b[0mprint\u001b[0m\u001b[0;34m(\u001b[0m\u001b[0;34mf'Total length of the training/validation dataset: {len(meta_df[meta_df[\"split_type\"] == \"JPEGImages-trainval\"])} and testing dataset: {len(meta_df[meta_df[\"split_type\"] == \"JPEGImages-test\"])}'\u001b[0m\u001b[0;34m)\u001b[0m\u001b[0;34m\u001b[0m\u001b[0;34m\u001b[0m\u001b[0m\n",
            "\u001b[0;31mNameError\u001b[0m: name 'meta_df' is not defined"
          ]
        }
      ]
    },
    {
      "cell_type": "code",
      "source": [
        "# Visualizing the classes - rerun the code for different classes.\n",
        "viz_class = random.sample(meta_df.objects.tolist(), 1)[0]\n",
        "viz_list = meta_df[meta_df['objects'] == viz_class].filename.tolist()\n",
        "plt.figure(figsize=(20, 5))\n",
        "rand = random.sample(viz_list, 4)\n",
        "for i in range(4):\n",
        "    plt.subplot(1, 4, i+1)\n",
        "    plt.imshow(plt.imread(rand[i]))\n",
        "    plt.suptitle(f'Objects in the Image: {viz_class}', fontsize=20, fontweight='bold')\n",
        "    plt.axis(False)"
      ],
      "metadata": {
        "id": "0Ent3PAqY8C9",
        "outputId": "6871e49c-5caf-497e-d31d-d37c924596ed",
        "colab": {
          "base_uri": "https://localhost:8080/",
          "height": 211
        }
      },
      "execution_count": null,
      "outputs": [
        {
          "output_type": "error",
          "ename": "NameError",
          "evalue": "name 'random' is not defined",
          "traceback": [
            "\u001b[0;31m---------------------------------------------------------------------------\u001b[0m",
            "\u001b[0;31mNameError\u001b[0m                                 Traceback (most recent call last)",
            "\u001b[0;32m<ipython-input-3-e3d2b7f1293c>\u001b[0m in \u001b[0;36m<cell line: 2>\u001b[0;34m()\u001b[0m\n\u001b[1;32m      1\u001b[0m \u001b[0;31m# Visualizing the classes - rerun the code for different classes.\u001b[0m\u001b[0;34m\u001b[0m\u001b[0;34m\u001b[0m\u001b[0m\n\u001b[0;32m----> 2\u001b[0;31m \u001b[0mviz_class\u001b[0m \u001b[0;34m=\u001b[0m \u001b[0mrandom\u001b[0m\u001b[0;34m.\u001b[0m\u001b[0msample\u001b[0m\u001b[0;34m(\u001b[0m\u001b[0mmeta_df\u001b[0m\u001b[0;34m.\u001b[0m\u001b[0mobjects\u001b[0m\u001b[0;34m.\u001b[0m\u001b[0mtolist\u001b[0m\u001b[0;34m(\u001b[0m\u001b[0;34m)\u001b[0m\u001b[0;34m,\u001b[0m \u001b[0;36m1\u001b[0m\u001b[0;34m)\u001b[0m\u001b[0;34m[\u001b[0m\u001b[0;36m0\u001b[0m\u001b[0;34m]\u001b[0m\u001b[0;34m\u001b[0m\u001b[0;34m\u001b[0m\u001b[0m\n\u001b[0m\u001b[1;32m      3\u001b[0m \u001b[0mviz_list\u001b[0m \u001b[0;34m=\u001b[0m \u001b[0mmeta_df\u001b[0m\u001b[0;34m[\u001b[0m\u001b[0mmeta_df\u001b[0m\u001b[0;34m[\u001b[0m\u001b[0;34m'objects'\u001b[0m\u001b[0;34m]\u001b[0m \u001b[0;34m==\u001b[0m \u001b[0mviz_class\u001b[0m\u001b[0;34m]\u001b[0m\u001b[0;34m.\u001b[0m\u001b[0mfilename\u001b[0m\u001b[0;34m.\u001b[0m\u001b[0mtolist\u001b[0m\u001b[0;34m(\u001b[0m\u001b[0;34m)\u001b[0m\u001b[0;34m\u001b[0m\u001b[0;34m\u001b[0m\u001b[0m\n\u001b[1;32m      4\u001b[0m \u001b[0mplt\u001b[0m\u001b[0;34m.\u001b[0m\u001b[0mfigure\u001b[0m\u001b[0;34m(\u001b[0m\u001b[0mfigsize\u001b[0m\u001b[0;34m=\u001b[0m\u001b[0;34m(\u001b[0m\u001b[0;36m20\u001b[0m\u001b[0;34m,\u001b[0m \u001b[0;36m5\u001b[0m\u001b[0;34m)\u001b[0m\u001b[0;34m)\u001b[0m\u001b[0;34m\u001b[0m\u001b[0;34m\u001b[0m\u001b[0m\n\u001b[1;32m      5\u001b[0m \u001b[0mrand\u001b[0m \u001b[0;34m=\u001b[0m \u001b[0mrandom\u001b[0m\u001b[0;34m.\u001b[0m\u001b[0msample\u001b[0m\u001b[0;34m(\u001b[0m\u001b[0mviz_list\u001b[0m\u001b[0;34m,\u001b[0m \u001b[0;36m4\u001b[0m\u001b[0;34m)\u001b[0m\u001b[0;34m\u001b[0m\u001b[0;34m\u001b[0m\u001b[0m\n",
            "\u001b[0;31mNameError\u001b[0m: name 'random' is not defined"
          ]
        }
      ]
    }
  ]
}